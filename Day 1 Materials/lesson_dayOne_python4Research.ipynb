{
 "cells": [
  {
   "cell_type": "markdown",
   "id": "64431df0-089d-4315-ab16-7ba2c1d585c2",
   "metadata": {},
   "source": [
    "# Python for Researchers \n",
    "\n",
    "## Day One Objectives \n",
    "\n",
    "* download and start working in VS Code \n",
    "* learn what a programming language is and how to 'read' and 'write' Python\n",
    "* learn some of the basic building blocks of Python\n",
    "* create a small program for re-writing file names \n",
    "\n",
    "## Small Tips about using Jupyter Notebook in VSCode\n",
    "\n",
    "* if you want to make a heading you can use #, ##, ###, or #### in front of the text\n",
    "* to move a cell up or down, you can select it and press either alt + up arrow or alt + down arrow "
   ]
  },
  {
   "cell_type": "markdown",
   "id": "ca45acd8-e83b-490d-abda-65359faf6835",
   "metadata": {},
   "source": [
    "## Section One : What is a Programming Language? \n",
    "\n",
    "A programming language is a set of instructions written by a programmer (you) for a computer. The computer interprets and executes those instructions.\n",
    "\n",
    "It can be helpful to lean into the idea of Python being 'interpreted.' On the one hand is you doing your best to write out code and on the other hand is your computer doing its best to read and execute it - but you're both used to speaking in very different ways!\n",
    "\n",
    "Consider the line of code below are the characters to the left and right the same? We can run it and see if Python interprets them that way: "
   ]
  },
  {
   "cell_type": "code",
   "execution_count": null,
   "id": "5190ce70-eda4-4833-9ef5-0fa4104c5c69",
   "metadata": {},
   "outputs": [],
   "source": [
    "\"A \" == \"A\" "
   ]
  },
  {
   "cell_type": "markdown",
   "id": "e6080092-e28a-4583-bac3-6e5e46324b81",
   "metadata": {},
   "source": [
    "**Why is the above statement false?**\n",
    "\n",
    "It is because Python encodes characters in many different ways in order to better translate them to your computer. Characters like numbers, letters, symbols and *even spaces* are translated in 'unicode' we can see that by using our 'ord' function that tells us the unicode of a character:"
   ]
  },
  {
   "cell_type": "code",
   "execution_count": null,
   "id": "c8dcf85e-7c9e-4c3d-a022-f261d209a389",
   "metadata": {},
   "outputs": [],
   "source": [
    "print(ord(\" \"))\n",
    "print(ord(\"A\"))"
   ]
  },
  {
   "cell_type": "markdown",
   "id": "cf880cc3-1b1a-4c9a-a044-5aae59a2dcb7",
   "metadata": {},
   "source": [
    "**Why does this matter?**\n",
    "A common error when learning to code is accidently leaving a space somewhere or not capitializing something correctly. Learning to code is like learning a language and there a many rules to learn in order to properly 'speak' it. \n",
    "\n",
    "For example, in the above code we surround the character A in qoutation marks. Why do we do that? Because we want Python to interpret that character as a letter, or, in Python terms a **string**. \n",
    "\n",
    "Below is a line of code with a 'string' and a sentence not in quotation marks: "
   ]
  },
  {
   "cell_type": "code",
   "execution_count": null,
   "id": "49cd50e6-b1cc-4e31-a0af-10606a051353",
   "metadata": {},
   "outputs": [],
   "source": [
    "\"This is a sentence\" == This is a sentence"
   ]
  },
  {
   "cell_type": "markdown",
   "id": "78c88dc4-2855-4920-ac44-2688c6355693",
   "metadata": {},
   "source": [
    "When we run the code we get a **syntax error** which means there is something wrong with our coding grammar-in this case we are using incorrect formatting. \n",
    "\n",
    "We are going to revist these vocabularly terms (string, syntax) throughout the lesson, so don't worry if they haven't fully made sense yet. \n",
    "\n",
    "The think to keep in mind at this point is that while you may read the following as a sentance ```\"this is a sentence\"``` to Python it isn't a sentance at all, it is a string of characters with numerical meaning. \n",
    "\n",
    "Sometimes, working with Python can make you think that your computer is stupid, and should just *know* what you are trying to say, but that's not the way it works. Python has strict rules and isn't as flexible as other tools we may use all the time (like spellcheckers and autocorrect) so a large part of coding is learning to pay attention to the details. "
   ]
  },
  {
   "cell_type": "markdown",
   "id": "56797a16-6b60-45d1-bac6-803702b27182",
   "metadata": {},
   "source": [
    "### Python Syntax\n",
    "Python Syntax is like the grammar of the language and what sets it apart from other coding languages. \n",
    "\n",
    "These are some of the basics of Python syntax. If you get a **syntax error** when running your code make sure you've double checked you've followed these rules! \n",
    "\n",
    "* Identation\n",
    "    * indentation in Python means something and helps the lanaguage determine the order and relationship between your lines of code\n",
    "* Data Types\n",
    "    * data types are specific objects in Python that are defined and used in specific ways the following are some data types:\n",
    "        * string = \"string\"\n",
    "        * integer = 8\n",
    "        * float = .08\n",
    "        * booleans = true, false\n",
    "* Comments\n",
    "    * #comments are declared with a hashtag\n",
    "* Parentheses\n",
    "    * parentheses group objects or call a function\n",
    "* End of lines are blank, or have a colon to note a new block of code\n",
    "* Keywords\n",
    "    * Python has a number of reserved words that cannot be used to name other objects and can only be used for their specific role\n",
    "    * Keywords are: False, wait, else, import, pass, None, break, except, In,  raise, True, class, finally, is, return, and, continue, for, lambda, try, as, def, from, nonlocal, while, assert, del, global, not, with, async, elif, if, or, yield\n"
   ]
  },
  {
   "cell_type": "markdown",
   "id": "76b05da0-1b57-4ac2-8097-f5a76519d86f",
   "metadata": {},
   "source": [
    "### Reading Python\n",
    "\n",
    "Python was built intentionally to be a language that is a little more 'human readable.' Compare a statement in Python vs a statement in R:\n",
    "\n",
    "#### Python\n",
    "\n",
    "```python\n",
    "files = [\"reportDraft_2023-12-12.txt\", \"reportDraft_2024-1-23.txt\", \"reportDraft_2024-3-14.txt\"]\n",
    "\n",
    "files = [file.replace(\"-\",\"\") for file in files]\n",
    "\n",
    "print(files)\n",
    "```\n",
    "#### R\n",
    "```r\n",
    "files <- c(\"reportDraft_2023-12-12.txt\", \"reportDraft_2024-1-23.txt\", \"reportDraft_2024-3-14.txt\")\n",
    "\n",
    "files <- gsub(\"-\", \"\", files)\n",
    "\n",
    "print(files)\n",
    "```\n",
    "\n",
    "What differences between these examples do you notice? What makes one or the other more 'readable'?"
   ]
  },
  {
   "cell_type": "markdown",
   "id": "b8d40567-95a8-447c-99a3-dab87872580c",
   "metadata": {},
   "source": [
    "### Recognizing Python\n",
    "\n",
    "Understanding Python begins with being able to recognize the common building blocks used in the syntax. There are many types of objects in Python so being able to identify and know how they all work and work with one another is an important step to being able to write your own code or, read and use code you may find online or generate with a chat tool. \n",
    "\n",
    "We'll start by defining some of the basic ones and how to recognize them. "
   ]
  },
  {
   "cell_type": "markdown",
   "id": "755f3b04-51b3-4d57-9aff-1fadac003a74",
   "metadata": {},
   "source": [
    "### Variables and Data Types\n",
    "\n",
    "Variables are where you store information in Python. Variables are used so that you can quickly update, test, adjust and re-store information without constantly having to rewrite or remember the information itself.\n",
    "\n",
    "You can set variables to be many things, but one of the most common things you'll be setting variables to are either 'strings', 'integers', or floats' \n",
    "\n",
    "Variables are created the following way:"
   ]
  },
  {
   "cell_type": "code",
   "execution_count": null,
   "id": "48df4f0d-9366-48b5-a033-4ccd1fe37f72",
   "metadata": {},
   "outputs": [],
   "source": [
    "variableName = \"variableValue\""
   ]
  },
  {
   "cell_type": "code",
   "execution_count": null,
   "id": "df0f9f0e-b85b-4f6e-91cb-8315a09b3b02",
   "metadata": {},
   "outputs": [],
   "source": [
    "string = \"This is a string\"\n",
    "integar = 9\n",
    "decimalFloat = 0.8\n",
    "\n",
    "print(string)\n",
    "print(integar)\n",
    "print(decimalFloat)"
   ]
  },
  {
   "cell_type": "code",
   "execution_count": null,
   "id": "9c984df3-d6eb-47df-99a5-9841a248e08e",
   "metadata": {},
   "outputs": [],
   "source": [
    "print(string)"
   ]
  },
  {
   "cell_type": "markdown",
   "id": "3897522f-61d4-49d9-b398-347270d59658",
   "metadata": {},
   "source": [
    "### Operators\n",
    "\n",
    "Now that we've created variables we can update them!\n",
    "\n",
    "We are going to update our variables using another Python object called operators.\n",
    "\n",
    "Operators let us do equations: +, -, *, /, %\n",
    "\n",
    "Compare: ==, !=, <, >, <=, >=\n",
    "\n",
    "and assign (by combining a mathematical operator with a = sign): =, +=, -=, *=, /=, %="
   ]
  },
  {
   "cell_type": "code",
   "execution_count": null,
   "id": "003628b3-60b3-4441-a28a-033e405053dd",
   "metadata": {},
   "outputs": [],
   "source": [
    "string += \". It is all letters.\"\n",
    "integar -= 2\n",
    "decimalFloat *= 3\n",
    "\n",
    "print(f\"{string}\\n{integar}\\n{decimalFloat}\")"
   ]
  },
  {
   "cell_type": "markdown",
   "id": "dfd86ebe-03e0-4412-847c-6a8f17325ded",
   "metadata": {},
   "source": [
    "### Lists\n",
    "Lists are a particular kind of object in Python that have their own syntax and additional functionalities for storing and updating the information in them.\n",
    "\n",
    "Lists look like:\n",
    "\n",
    "```\n",
    "listName = [\"listItemZero\", \"listItemOne\", \"listItemtwo\"]\n",
    "```\n",
    "\n",
    "There are lots of things we can do with lists which we'll cover in later lessons. For now, the two important things to note are that lists use brackets to surround list items and list items are separated by commas.\n"
   ]
  },
  {
   "cell_type": "code",
   "execution_count": null,
   "id": "048b0a8e-55fc-4aaa-aecc-ee2939b81209",
   "metadata": {},
   "outputs": [],
   "source": [
    "listOfStrings = [\"zero\", \"one\", \"two\"]\n",
    "listOfIntegers = [0, 1, 2]\n",
    "listOfTypes = [0.0, 0, \"Zero\"]\n",
    "\n",
    "print(f\"{listOfStrings}\\n{listOfIntegers}\\n{listOfTypes}\")"
   ]
  },
  {
   "cell_type": "markdown",
   "id": "1c5e0821-17cf-432f-9586-2122ada2faaa",
   "metadata": {},
   "source": [
    "An important note about lists is that they start at 'zero' so the first item in a list is at the '0' point in that list.\n",
    "\n",
    "The position of an item within an list is called its index and we can both use our lists' index to call items or check what the index of an item is."
   ]
  },
  {
   "cell_type": "code",
   "execution_count": null,
   "id": "51a6b17d-3366-4dd3-ac61-5143bd27d6fe",
   "metadata": {},
   "outputs": [],
   "source": [
    "characters = [\"Essun\", \"Syanite\", \"Damaya\"]"
   ]
  },
  {
   "cell_type": "code",
   "execution_count": null,
   "id": "3ef33431-f2ff-4dac-88fc-33ecbb19ee01",
   "metadata": {},
   "outputs": [],
   "source": [
    "#print(basket[0])\n",
    "print(characters.index(\"Syanite\"))"
   ]
  },
  {
   "cell_type": "markdown",
   "id": "78137fbb-1af8-4888-8bf5-3759d5f878bb",
   "metadata": {},
   "source": [
    "In the first example we are using our lists' index to call the first item.\n",
    "\n",
    "In the second example we are using a function to perform a particular action, in this case to find out what is the index \"zero\" in our list"
   ]
  },
  {
   "cell_type": "markdown",
   "id": "d0b2bf0c-806b-4129-8083-0a2ca30cb7b5",
   "metadata": {},
   "source": [
    "### Functions\n",
    "We've already used some functions in this lesson. In Python we can create our own fuctions (we aren't doing that today) or use built-in functions. When you use a function it is called 'calling a function'.\n",
    "\n",
    "Calling a function looks like:\n",
    "\n",
    "```function.(argument)```\n",
    "\n",
    "Functions can sometimes take no arguement or only arguements of a specific type. Having the incorrect type or number of arguements will give you an error. Generally, it is easy to find additional information on common functions and learn more about the arguements that they can take."
   ]
  },
  {
   "cell_type": "markdown",
   "id": "fa5f36a4-be7f-4bef-99a2-e9f97b133595",
   "metadata": {},
   "source": [
    "### Loops (Control Flow)\n",
    "Control flow objects include 'for' loops, 'while' loops, and 'if/elif' statements. We are not using 'if' statements today, but will in later sessions.\n",
    "\n",
    "Today we are learning 'for' loops:\n",
    "```python\n",
    "for variable in iterable:\n",
    "  variable += 5\n",
    "  print(variable)\n",
    "```\n",
    "And 'while' loops:\n",
    "\n",
    "```python\n",
    "while object <= 7:\n",
    "  object += 1\n",
    "  print(object)\n",
    "```\n",
    "\n",
    "In this example we don't have to go through and change each kitten's name. Instead, we cycle through each kitten assigning it to our 'kitten' variable, update it, and save it to our new list all in one line of code.\n",
    "\n",
    "We can break down the code a little more to 'see' each kitten get assigned to the variable:"
   ]
  },
  {
   "cell_type": "markdown",
   "id": "18204492-aff3-4fd3-966a-058634710a6a",
   "metadata": {},
   "source": [
    "### Reading Comprehension with Python\n",
    "\n",
    "Let's revist our code from before that we compared with R's syntax. Now that we've gone over some of the different objects in Python, what can you identify in the below code?\n",
    "\n",
    "```python\n",
    "files = [\"reportDraft_2023-12-12.txt\", \"reportDraft_2024-1-23.txt\", \"reportDraft_2024-3-14.txt\"]\n",
    "\n",
    "files = [file.replace(\"-\",\"\") for file in files]\n",
    "\n",
    "print(files)\n",
    "```\n"
   ]
  },
  {
   "cell_type": "markdown",
   "id": "b11bd571-6c53-4d29-ac4c-b134dcf96548",
   "metadata": {},
   "source": [
    "#### Coding Along\n",
    "First, copy and paste the above lines of Python code into the code cell below. Follow along to comment the code and then run to see if what you commented turns out to be true. "
   ]
  },
  {
   "cell_type": "code",
   "execution_count": null,
   "id": "2eaf05ef-d161-4b25-ba1c-935c820a75bb",
   "metadata": {},
   "outputs": [],
   "source": []
  },
  {
   "cell_type": "markdown",
   "id": "9beb3151-0fbc-4051-922b-c3f36e20997d",
   "metadata": {},
   "source": [
    "### Our First Program: Rename Files"
   ]
  },
  {
   "cell_type": "markdown",
   "id": "f2ffd5dc-37fd-4691-a54f-e728772706ec",
   "metadata": {},
   "source": [
    "Import the libraries that we need"
   ]
  },
  {
   "cell_type": "code",
   "execution_count": null,
   "id": "9698113c-03bd-45ca-9117-f1d6f6889dff",
   "metadata": {},
   "outputs": [],
   "source": []
  },
  {
   "cell_type": "markdown",
   "id": "a2b44c9e-c5b4-46d9-a8ac-8fad9db48806",
   "metadata": {},
   "source": [
    "Create a variable that is set to a file name that we can begin to practice with"
   ]
  },
  {
   "cell_type": "code",
   "execution_count": null,
   "id": "301e9d29-d14b-4bd3-b51f-9077fa9f4c23",
   "metadata": {},
   "outputs": [],
   "source": [
    "\n"
   ]
  },
  {
   "cell_type": "markdown",
   "id": "1bda2881-dbda-4c1d-9997-98cc67b366cf",
   "metadata": {},
   "source": [
    "Break down what we want to do and start to write some code to: \n",
    "* get the date from our file based on it's creation time\n",
    "* rename the file using that creation time and a string we create"
   ]
  },
  {
   "cell_type": "code",
   "execution_count": null,
   "id": "7659072c-9317-4e14-98b7-4959ab098b86",
   "metadata": {},
   "outputs": [],
   "source": []
  },
  {
   "cell_type": "markdown",
   "id": "59f968d3-a10f-473e-bbd8-3098c47c4339",
   "metadata": {},
   "source": [
    "Rename a file using the file's date as part of the new name"
   ]
  },
  {
   "cell_type": "code",
   "execution_count": null,
   "id": "14d7c17b-4c3a-4f66-a860-510a06439be8",
   "metadata": {},
   "outputs": [],
   "source": []
  },
  {
   "cell_type": "markdown",
   "id": "fec4e582-61a9-4975-b1b0-a8e96de68025",
   "metadata": {},
   "source": [
    "#### Rename an entire folder of files\n",
    "\n",
    "To create a full program that will loop through all the files in a folder and rename, we need to think through a few different things. \n",
    "\n",
    "* getting the file extension for our files automatically\n",
    "* getting the time from our files to put into our file name\n",
    "* putting these into a loop\n"
   ]
  },
  {
   "cell_type": "code",
   "execution_count": null,
   "id": "4b7e039e-dba9-492e-b6e8-9406d5938bdb",
   "metadata": {
    "scrolled": true
   },
   "outputs": [],
   "source": []
  },
  {
   "cell_type": "code",
   "execution_count": null,
   "id": "d04f8f26-bb99-445e-9245-2560046c7cbc",
   "metadata": {},
   "outputs": [],
   "source": []
  }
 ],
 "metadata": {
  "kernelspec": {
   "display_name": "Python 3 (ipykernel)",
   "language": "python",
   "name": "python3"
  },
  "language_info": {
   "codemirror_mode": {
    "name": "ipython",
    "version": 3
   },
   "file_extension": ".py",
   "mimetype": "text/x-python",
   "name": "python",
   "nbconvert_exporter": "python",
   "pygments_lexer": "ipython3",
   "version": "3.12.7"
  }
 },
 "nbformat": 4,
 "nbformat_minor": 5
}
