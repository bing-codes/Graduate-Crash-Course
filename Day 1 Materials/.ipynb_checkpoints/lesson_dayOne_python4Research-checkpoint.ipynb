{
 "cells": [
  {
   "cell_type": "markdown",
   "id": "64431df0-089d-4315-ab16-7ba2c1d585c2",
   "metadata": {},
   "source": [
    "# Python for Researchers \n",
    "\n",
    "## Day One Objectives \n",
    "\n",
    "* download and start working in VS Code \n",
    "* learn what a programming language is and how to 'read' and 'write' Python\n",
    "* learn some of the basic building blocks of Python\n",
    "* create a small program for re-writing file names \n",
    "\n",
    "## Get this notebook on Github! \n",
    "\n",
    "Leave for Chelsea's Instructions. "
   ]
  },
  {
   "cell_type": "markdown",
   "id": "ca45acd8-e83b-490d-abda-65359faf6835",
   "metadata": {},
   "source": [
    "## Section One : What is a Programming Language? \n",
    "\n",
    "A programming language is a set of instructions written by a programmer (you) for a computer. The computer interprets and executes those instructions.\n",
    "\n",
    "It can be helpful to lean into the idea of Python being 'interpreted.' On the one hand is you doing your best to write out code and on the other hand is your computer doing its best to read and execute it - but you're both used to speaking in very different ways!\n",
    "\n",
    "Consider the following example:"
   ]
  },
  {
   "cell_type": "code",
   "execution_count": null,
   "id": "5190ce70-eda4-4833-9ef5-0fa4104c5c69",
   "metadata": {},
   "outputs": [],
   "source": []
  }
 ],
 "metadata": {
  "kernelspec": {
   "display_name": "Python 3 (ipykernel)",
   "language": "python",
   "name": "python3"
  },
  "language_info": {
   "codemirror_mode": {
    "name": "ipython",
    "version": 3
   },
   "file_extension": ".py",
   "mimetype": "text/x-python",
   "name": "python",
   "nbconvert_exporter": "python",
   "pygments_lexer": "ipython3",
   "version": "3.12.7"
  }
 },
 "nbformat": 4,
 "nbformat_minor": 5
}
