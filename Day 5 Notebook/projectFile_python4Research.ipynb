{
 "cells": [
  {
   "cell_type": "markdown",
   "id": "547f8efc",
   "metadata": {},
   "source": [
    "# Python for Researchers \n",
    "\n",
    "Welcome to day five! \n",
    "\n",
    "Today will be spent creating your own text analysis project in Python using the tools and libraries you learned throughout the week. \n",
    "\n",
    "[We will use this dataset](https://drive.google.com/file/d/1cklop5CRa4sfNp4v3JOHGvHEkp4f6Ko2/view?usp=sharing) that is similar to the journal of Language in Society metadata data from day four. \n",
    "\n",
    "With this data you will need to: \n",
    "\n",
    "* open it into a dataframe \n",
    "\n",
    "* create a subset of data to work with that includes dates, titles, and key words \n",
    "\n",
    "* create a wordcloud using the key word data (you'll need to clean it!)\n",
    "\n",
    "* run a tf-idf analysis on the titles \n",
    "\n",
    "* run an LDA analysis on the titles and visualize it using pyLDAvis "
   ]
  },
  {
   "cell_type": "markdown",
   "id": "b65969e9",
   "metadata": {},
   "source": []
  }
 ],
 "metadata": {
  "language_info": {
   "name": "python"
  }
 },
 "nbformat": 4,
 "nbformat_minor": 5
}
